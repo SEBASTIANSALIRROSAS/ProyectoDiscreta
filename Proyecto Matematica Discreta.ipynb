{
 "cells": [
  {
   "cell_type": "markdown",
   "id": "779b7ecb",
   "metadata": {},
   "source": [
    "Importamos la libreria Pandas"
   ]
  },
  {
   "cell_type": "code",
   "execution_count": 2,
   "id": "e7051603",
   "metadata": {},
   "outputs": [],
   "source": [
    "import pandas as pd"
   ]
  },
  {
   "cell_type": "markdown",
   "id": "6258b75d",
   "metadata": {},
   "source": [
    "Leemos el dataset y lo visualizamos"
   ]
  },
  {
   "cell_type": "code",
   "execution_count": 3,
   "id": "6fbbbf71",
   "metadata": {},
   "outputs": [
    {
     "data": {
      "text/html": [
       "<div>\n",
       "<style scoped>\n",
       "    .dataframe tbody tr th:only-of-type {\n",
       "        vertical-align: middle;\n",
       "    }\n",
       "\n",
       "    .dataframe tbody tr th {\n",
       "        vertical-align: top;\n",
       "    }\n",
       "\n",
       "    .dataframe thead th {\n",
       "        text-align: right;\n",
       "    }\n",
       "</style>\n",
       "<table border=\"1\" class=\"dataframe\">\n",
       "  <thead>\n",
       "    <tr style=\"text-align: right;\">\n",
       "      <th></th>\n",
       "      <th>Nombre</th>\n",
       "      <th>Distancia</th>\n",
       "      <th>Hora_Salida</th>\n",
       "      <th>Hora_num</th>\n",
       "      <th>Dia</th>\n",
       "      <th>Tráfico</th>\n",
       "      <th>Min_8_AM</th>\n",
       "    </tr>\n",
       "  </thead>\n",
       "  <tbody>\n",
       "    <tr>\n",
       "      <th>0</th>\n",
       "      <td>DARLENE</td>\n",
       "      <td>8.3</td>\n",
       "      <td>06:40:00</td>\n",
       "      <td>0.277778</td>\n",
       "      <td>martes</td>\n",
       "      <td>no</td>\n",
       "      <td>-10</td>\n",
       "    </tr>\n",
       "    <tr>\n",
       "      <th>1</th>\n",
       "      <td>DARLENE</td>\n",
       "      <td>8.3</td>\n",
       "      <td>06:50:00</td>\n",
       "      <td>0.284722</td>\n",
       "      <td>jueves</td>\n",
       "      <td>si</td>\n",
       "      <td>-10</td>\n",
       "    </tr>\n",
       "    <tr>\n",
       "      <th>2</th>\n",
       "      <td>Jack</td>\n",
       "      <td>9.0</td>\n",
       "      <td>06:50:00</td>\n",
       "      <td>0.284722</td>\n",
       "      <td>martes</td>\n",
       "      <td>si</td>\n",
       "      <td>0</td>\n",
       "    </tr>\n",
       "    <tr>\n",
       "      <th>3</th>\n",
       "      <td>Jack</td>\n",
       "      <td>9.0</td>\n",
       "      <td>06:55:00</td>\n",
       "      <td>0.288194</td>\n",
       "      <td>viernes</td>\n",
       "      <td>si</td>\n",
       "      <td>5</td>\n",
       "    </tr>\n",
       "    <tr>\n",
       "      <th>4</th>\n",
       "      <td>Jean Pool</td>\n",
       "      <td>6.9</td>\n",
       "      <td>07:00:00</td>\n",
       "      <td>0.291667</td>\n",
       "      <td>viernes</td>\n",
       "      <td>si</td>\n",
       "      <td>-10</td>\n",
       "    </tr>\n",
       "    <tr>\n",
       "      <th>5</th>\n",
       "      <td>Nicolas</td>\n",
       "      <td>4.8</td>\n",
       "      <td>07:20:00</td>\n",
       "      <td>0.305556</td>\n",
       "      <td>miercoles</td>\n",
       "      <td>no</td>\n",
       "      <td>10</td>\n",
       "    </tr>\n",
       "    <tr>\n",
       "      <th>6</th>\n",
       "      <td>Alejos</td>\n",
       "      <td>8.1</td>\n",
       "      <td>06:50:00</td>\n",
       "      <td>0.284722</td>\n",
       "      <td>lunes</td>\n",
       "      <td>si</td>\n",
       "      <td>5</td>\n",
       "    </tr>\n",
       "    <tr>\n",
       "      <th>7</th>\n",
       "      <td>Guillermo</td>\n",
       "      <td>7.8</td>\n",
       "      <td>07:00:00</td>\n",
       "      <td>0.291667</td>\n",
       "      <td>jueves</td>\n",
       "      <td>no</td>\n",
       "      <td>5</td>\n",
       "    </tr>\n",
       "    <tr>\n",
       "      <th>8</th>\n",
       "      <td>Sergio</td>\n",
       "      <td>47.0</td>\n",
       "      <td>06:15:00</td>\n",
       "      <td>0.260417</td>\n",
       "      <td>sabado</td>\n",
       "      <td>no</td>\n",
       "      <td>-10</td>\n",
       "    </tr>\n",
       "    <tr>\n",
       "      <th>9</th>\n",
       "      <td>Sergio</td>\n",
       "      <td>47.0</td>\n",
       "      <td>06:00:00</td>\n",
       "      <td>0.250000</td>\n",
       "      <td>lunes</td>\n",
       "      <td>si</td>\n",
       "      <td>10</td>\n",
       "    </tr>\n",
       "    <tr>\n",
       "      <th>10</th>\n",
       "      <td>Cristhian</td>\n",
       "      <td>11.0</td>\n",
       "      <td>06:50:00</td>\n",
       "      <td>0.284722</td>\n",
       "      <td>jueves</td>\n",
       "      <td>no</td>\n",
       "      <td>-5</td>\n",
       "    </tr>\n",
       "    <tr>\n",
       "      <th>11</th>\n",
       "      <td>Cristhian</td>\n",
       "      <td>11.0</td>\n",
       "      <td>06:40:00</td>\n",
       "      <td>0.277778</td>\n",
       "      <td>viernes</td>\n",
       "      <td>si</td>\n",
       "      <td>0</td>\n",
       "    </tr>\n",
       "    <tr>\n",
       "      <th>12</th>\n",
       "      <td>ANGEL</td>\n",
       "      <td>24.0</td>\n",
       "      <td>06:00:00</td>\n",
       "      <td>0.250000</td>\n",
       "      <td>lunes</td>\n",
       "      <td>no</td>\n",
       "      <td>-10</td>\n",
       "    </tr>\n",
       "    <tr>\n",
       "      <th>13</th>\n",
       "      <td>aldo</td>\n",
       "      <td>24.0</td>\n",
       "      <td>06:30:00</td>\n",
       "      <td>0.270833</td>\n",
       "      <td>martes</td>\n",
       "      <td>si</td>\n",
       "      <td>10</td>\n",
       "    </tr>\n",
       "    <tr>\n",
       "      <th>14</th>\n",
       "      <td>rine</td>\n",
       "      <td>4.6</td>\n",
       "      <td>07:15:00</td>\n",
       "      <td>0.302083</td>\n",
       "      <td>lunes</td>\n",
       "      <td>si</td>\n",
       "      <td>0</td>\n",
       "    </tr>\n",
       "    <tr>\n",
       "      <th>15</th>\n",
       "      <td>cesar</td>\n",
       "      <td>8.0</td>\n",
       "      <td>07:10:00</td>\n",
       "      <td>0.298611</td>\n",
       "      <td>lunes</td>\n",
       "      <td>no</td>\n",
       "      <td>10</td>\n",
       "    </tr>\n",
       "    <tr>\n",
       "      <th>16</th>\n",
       "      <td>Maycol</td>\n",
       "      <td>18.0</td>\n",
       "      <td>06:40:00</td>\n",
       "      <td>0.277778</td>\n",
       "      <td>lunes</td>\n",
       "      <td>si</td>\n",
       "      <td>0</td>\n",
       "    </tr>\n",
       "    <tr>\n",
       "      <th>17</th>\n",
       "      <td>paulo</td>\n",
       "      <td>20.0</td>\n",
       "      <td>06:00:00</td>\n",
       "      <td>0.250000</td>\n",
       "      <td>lunes</td>\n",
       "      <td>si</td>\n",
       "      <td>0</td>\n",
       "    </tr>\n",
       "    <tr>\n",
       "      <th>18</th>\n",
       "      <td>Luis Antonio</td>\n",
       "      <td>8.7</td>\n",
       "      <td>06:45:00</td>\n",
       "      <td>0.281250</td>\n",
       "      <td>lunes</td>\n",
       "      <td>si</td>\n",
       "      <td>-10</td>\n",
       "    </tr>\n",
       "    <tr>\n",
       "      <th>19</th>\n",
       "      <td>Luis Antonio</td>\n",
       "      <td>8.7</td>\n",
       "      <td>07:00:00</td>\n",
       "      <td>0.291667</td>\n",
       "      <td>lunes</td>\n",
       "      <td>si</td>\n",
       "      <td>10</td>\n",
       "    </tr>\n",
       "    <tr>\n",
       "      <th>20</th>\n",
       "      <td>Wilmer</td>\n",
       "      <td>7.9</td>\n",
       "      <td>07:20:00</td>\n",
       "      <td>0.305556</td>\n",
       "      <td>jueves</td>\n",
       "      <td>no</td>\n",
       "      <td>-5</td>\n",
       "    </tr>\n",
       "    <tr>\n",
       "      <th>21</th>\n",
       "      <td>Wilmer</td>\n",
       "      <td>7.9</td>\n",
       "      <td>07:30:00</td>\n",
       "      <td>0.312500</td>\n",
       "      <td>jueves</td>\n",
       "      <td>si</td>\n",
       "      <td>5</td>\n",
       "    </tr>\n",
       "    <tr>\n",
       "      <th>22</th>\n",
       "      <td>Andre</td>\n",
       "      <td>10.0</td>\n",
       "      <td>06:40:00</td>\n",
       "      <td>0.277778</td>\n",
       "      <td>miercoles</td>\n",
       "      <td>no</td>\n",
       "      <td>-10</td>\n",
       "    </tr>\n",
       "    <tr>\n",
       "      <th>23</th>\n",
       "      <td>Andre</td>\n",
       "      <td>10.0</td>\n",
       "      <td>06:50:00</td>\n",
       "      <td>0.284722</td>\n",
       "      <td>miercoles</td>\n",
       "      <td>no</td>\n",
       "      <td>10</td>\n",
       "    </tr>\n",
       "    <tr>\n",
       "      <th>24</th>\n",
       "      <td>Paul</td>\n",
       "      <td>10.4</td>\n",
       "      <td>06:45:00</td>\n",
       "      <td>0.281250</td>\n",
       "      <td>miercoles</td>\n",
       "      <td>no</td>\n",
       "      <td>-10</td>\n",
       "    </tr>\n",
       "    <tr>\n",
       "      <th>25</th>\n",
       "      <td>Paul</td>\n",
       "      <td>10.4</td>\n",
       "      <td>07:00:00</td>\n",
       "      <td>0.291667</td>\n",
       "      <td>miercoles</td>\n",
       "      <td>no</td>\n",
       "      <td>10</td>\n",
       "    </tr>\n",
       "    <tr>\n",
       "      <th>26</th>\n",
       "      <td>Brayan</td>\n",
       "      <td>7.9</td>\n",
       "      <td>07:00:00</td>\n",
       "      <td>0.291667</td>\n",
       "      <td>lunes</td>\n",
       "      <td>si</td>\n",
       "      <td>-5</td>\n",
       "    </tr>\n",
       "    <tr>\n",
       "      <th>27</th>\n",
       "      <td>Brayan</td>\n",
       "      <td>7.9</td>\n",
       "      <td>07:00:00</td>\n",
       "      <td>0.291667</td>\n",
       "      <td>lunes</td>\n",
       "      <td>no</td>\n",
       "      <td>-10</td>\n",
       "    </tr>\n",
       "    <tr>\n",
       "      <th>28</th>\n",
       "      <td>Adrian</td>\n",
       "      <td>3.8</td>\n",
       "      <td>07:35:00</td>\n",
       "      <td>0.315972</td>\n",
       "      <td>lunes</td>\n",
       "      <td>si</td>\n",
       "      <td>5</td>\n",
       "    </tr>\n",
       "    <tr>\n",
       "      <th>29</th>\n",
       "      <td>Adrian</td>\n",
       "      <td>3.8</td>\n",
       "      <td>07:35:00</td>\n",
       "      <td>0.315972</td>\n",
       "      <td>lunes</td>\n",
       "      <td>no</td>\n",
       "      <td>-10</td>\n",
       "    </tr>\n",
       "    <tr>\n",
       "      <th>30</th>\n",
       "      <td>Isaac</td>\n",
       "      <td>3.2</td>\n",
       "      <td>07:30:00</td>\n",
       "      <td>0.312500</td>\n",
       "      <td>martes</td>\n",
       "      <td>no</td>\n",
       "      <td>-10</td>\n",
       "    </tr>\n",
       "    <tr>\n",
       "      <th>31</th>\n",
       "      <td>Isaac</td>\n",
       "      <td>3.2</td>\n",
       "      <td>07:30:00</td>\n",
       "      <td>0.312500</td>\n",
       "      <td>jueves</td>\n",
       "      <td>si</td>\n",
       "      <td>5</td>\n",
       "    </tr>\n",
       "  </tbody>\n",
       "</table>\n",
       "</div>"
      ],
      "text/plain": [
       "           Nombre  Distancia Hora_Salida  Hora_num        Dia Tráfico  \\\n",
       "0         DARLENE        8.3    06:40:00  0.277778     martes      no   \n",
       "1         DARLENE        8.3    06:50:00  0.284722     jueves      si   \n",
       "2            Jack        9.0    06:50:00  0.284722     martes      si   \n",
       "3            Jack        9.0    06:55:00  0.288194    viernes      si   \n",
       "4       Jean Pool        6.9    07:00:00  0.291667    viernes      si   \n",
       "5         Nicolas        4.8    07:20:00  0.305556  miercoles      no   \n",
       "6          Alejos        8.1    06:50:00  0.284722      lunes      si   \n",
       "7       Guillermo        7.8    07:00:00  0.291667     jueves      no   \n",
       "8          Sergio       47.0    06:15:00  0.260417     sabado      no   \n",
       "9          Sergio       47.0    06:00:00  0.250000      lunes      si   \n",
       "10      Cristhian       11.0    06:50:00  0.284722     jueves      no   \n",
       "11      Cristhian       11.0    06:40:00  0.277778    viernes      si   \n",
       "12          ANGEL       24.0    06:00:00  0.250000      lunes      no   \n",
       "13           aldo       24.0    06:30:00  0.270833     martes      si   \n",
       "14           rine        4.6    07:15:00  0.302083      lunes      si   \n",
       "15          cesar        8.0    07:10:00  0.298611      lunes      no   \n",
       "16         Maycol       18.0    06:40:00  0.277778      lunes      si   \n",
       "17         paulo        20.0    06:00:00  0.250000      lunes      si   \n",
       "18  Luis Antonio         8.7    06:45:00  0.281250      lunes      si   \n",
       "19  Luis Antonio         8.7    07:00:00  0.291667      lunes      si   \n",
       "20         Wilmer        7.9    07:20:00  0.305556     jueves      no   \n",
       "21         Wilmer        7.9    07:30:00  0.312500     jueves      si   \n",
       "22          Andre       10.0    06:40:00  0.277778  miercoles      no   \n",
       "23          Andre       10.0    06:50:00  0.284722  miercoles      no   \n",
       "24           Paul       10.4    06:45:00  0.281250  miercoles      no   \n",
       "25           Paul       10.4    07:00:00  0.291667  miercoles      no   \n",
       "26        Brayan         7.9    07:00:00  0.291667      lunes      si   \n",
       "27        Brayan         7.9    07:00:00  0.291667      lunes      no   \n",
       "28         Adrian        3.8    07:35:00  0.315972      lunes      si   \n",
       "29         Adrian        3.8    07:35:00  0.315972      lunes      no   \n",
       "30          Isaac        3.2    07:30:00  0.312500     martes      no   \n",
       "31          Isaac        3.2    07:30:00  0.312500     jueves      si   \n",
       "\n",
       "    Min_8_AM  \n",
       "0        -10  \n",
       "1        -10  \n",
       "2          0  \n",
       "3          5  \n",
       "4        -10  \n",
       "5         10  \n",
       "6          5  \n",
       "7          5  \n",
       "8        -10  \n",
       "9         10  \n",
       "10        -5  \n",
       "11         0  \n",
       "12       -10  \n",
       "13        10  \n",
       "14         0  \n",
       "15        10  \n",
       "16         0  \n",
       "17         0  \n",
       "18       -10  \n",
       "19        10  \n",
       "20        -5  \n",
       "21         5  \n",
       "22       -10  \n",
       "23        10  \n",
       "24       -10  \n",
       "25        10  \n",
       "26        -5  \n",
       "27       -10  \n",
       "28         5  \n",
       "29       -10  \n",
       "30       -10  \n",
       "31         5  "
      ]
     },
     "execution_count": 3,
     "metadata": {},
     "output_type": "execute_result"
    }
   ],
   "source": [
    "dataset=pd.read_excel(\"C:/Users/Yaely/Desktop/Proyecto Matematica Discreta/Libro1.xlsx\")\n",
    "dataset"
   ]
  },
  {
   "cell_type": "code",
   "execution_count": 4,
   "id": "2f468095",
   "metadata": {},
   "outputs": [
    {
     "data": {
      "text/plain": [
       "Nombre          object\n",
       "Distancia      float64\n",
       "Hora_Salida     object\n",
       "Hora_num       float64\n",
       "Dia             object\n",
       "Tráfico         object\n",
       "Min_8_AM         int64\n",
       "dtype: object"
      ]
     },
     "execution_count": 4,
     "metadata": {},
     "output_type": "execute_result"
    }
   ],
   "source": [
    "dataset.dtypes"
   ]
  },
  {
   "cell_type": "markdown",
   "id": "f8edab02",
   "metadata": {},
   "source": [
    "Eliminamos Nombre y Hora_Salida\n",
    "Transformamos variables cualitativas a cuantitativas"
   ]
  },
  {
   "cell_type": "code",
   "execution_count": 5,
   "id": "8ae8a87a",
   "metadata": {},
   "outputs": [],
   "source": [
    "dataset=dataset.drop(['Nombre','Hora_Salida'],axis=1)\n",
    "dataset['Dia'] = dataset['Dia'].map({'lunes':0,'martes':1,'miercoles':2,'jueves':3,'viernes':4,'sabado':5})\n",
    "dataset['Tráfico']=dataset['Tráfico'].map({'no':0,'si':1})"
   ]
  },
  {
   "cell_type": "markdown",
   "id": "2727b638",
   "metadata": {},
   "source": [
    "Partimos la data entre los parametros y la etiqueta"
   ]
  },
  {
   "cell_type": "code",
   "execution_count": 6,
   "id": "1fd153ad",
   "metadata": {},
   "outputs": [],
   "source": [
    "var_in=dataset.drop(columns='Min_8_AM')\n",
    "objetivo=dataset.Min_8_AM"
   ]
  },
  {
   "cell_type": "markdown",
   "id": "afeb1139",
   "metadata": {},
   "source": [
    "Importamos el metodo para separacion de dataset "
   ]
  },
  {
   "cell_type": "code",
   "execution_count": 7,
   "id": "93ce1fc8",
   "metadata": {},
   "outputs": [],
   "source": [
    "from sklearn.model_selection import train_test_split"
   ]
  },
  {
   "cell_type": "markdown",
   "id": "28993d73",
   "metadata": {},
   "source": [
    "Dividimos el dataset entre data de entrenamiento y data de prueba, en porporcion de 4 a 1 "
   ]
  },
  {
   "cell_type": "code",
   "execution_count": 8,
   "id": "15af9af1",
   "metadata": {},
   "outputs": [],
   "source": [
    "X_train,X_test,y_train,y_test= train_test_split(var_in,objetivo,test_size=0.2)"
   ]
  },
  {
   "cell_type": "markdown",
   "id": "c35449a9",
   "metadata": {},
   "source": [
    "Importamos el modelo"
   ]
  },
  {
   "cell_type": "code",
   "execution_count": 9,
   "id": "b20e8e95",
   "metadata": {},
   "outputs": [],
   "source": [
    "from sklearn.tree import DecisionTreeClassifier"
   ]
  },
  {
   "cell_type": "code",
   "execution_count": 19,
   "id": "f476ae23",
   "metadata": {},
   "outputs": [],
   "source": [
    "model= DecisionTreeClassifier(max_depth=8)"
   ]
  },
  {
   "cell_type": "markdown",
   "id": "6db2bff2",
   "metadata": {},
   "source": [
    "Corremos el modelo con los datos de entrenamiento"
   ]
  },
  {
   "cell_type": "code",
   "execution_count": 20,
   "id": "8b2e21dc",
   "metadata": {},
   "outputs": [
    {
     "data": {
      "text/plain": [
       "DecisionTreeClassifier(max_depth=8)"
      ]
     },
     "execution_count": 20,
     "metadata": {},
     "output_type": "execute_result"
    }
   ],
   "source": [
    "model.fit(X_train,y_train)"
   ]
  },
  {
   "cell_type": "markdown",
   "id": "e0e41d9d",
   "metadata": {},
   "source": [
    "Importamos la libreria matplotlib para visualizar el Arbol de Desicion"
   ]
  },
  {
   "cell_type": "code",
   "execution_count": 21,
   "id": "d623ed7f",
   "metadata": {},
   "outputs": [],
   "source": [
    "from sklearn.tree import plot_tree\n",
    "import matplotlib.pyplot as plt"
   ]
  },
  {
   "cell_type": "code",
   "execution_count": 22,
   "id": "fce92352",
   "metadata": {
    "scrolled": false
   },
   "outputs": [
    {
     "data": {
      "image/png": "[encoded data removed]",
      "text/plain": [
       "<Figure size 1152x1008 with 1 Axes>"
      ]
     },
     "metadata": {
      "needs_background": "light"
     },
     "output_type": "display_data"
    }
   ],
   "source": [
    "plt.figure(figsize=(16,14))\n",
    "plot_tree(decision_tree=model, feature_names=var_in.columns,filled=True);"
   ]
  },
  {
   "cell_type": "markdown",
   "id": "a7354054",
   "metadata": {},
   "source": [
    "Usamos el modelo para predecir la data de prueba"
   ]
  },
  {
   "cell_type": "code",
   "execution_count": 23,
   "id": "901b87bd",
   "metadata": {},
   "outputs": [],
   "source": [
    "prediccion=model.predict(X_test)"
   ]
  },
  {
   "cell_type": "code",
   "execution_count": 24,
   "id": "d1e1175b",
   "metadata": {},
   "outputs": [
    {
     "data": {
      "text/html": [
       "<div>\n",
       "<style scoped>\n",
       "    .dataframe tbody tr th:only-of-type {\n",
       "        vertical-align: middle;\n",
       "    }\n",
       "\n",
       "    .dataframe tbody tr th {\n",
       "        vertical-align: top;\n",
       "    }\n",
       "\n",
       "    .dataframe thead th {\n",
       "        text-align: right;\n",
       "    }\n",
       "</style>\n",
       "<table border=\"1\" class=\"dataframe\">\n",
       "  <thead>\n",
       "    <tr style=\"text-align: right;\">\n",
       "      <th></th>\n",
       "      <th>Distancia</th>\n",
       "      <th>Hora_num</th>\n",
       "      <th>Dia</th>\n",
       "      <th>Tráfico</th>\n",
       "    </tr>\n",
       "  </thead>\n",
       "  <tbody>\n",
       "    <tr>\n",
       "      <th>3</th>\n",
       "      <td>9.0</td>\n",
       "      <td>0.288194</td>\n",
       "      <td>4</td>\n",
       "      <td>1</td>\n",
       "    </tr>\n",
       "  </tbody>\n",
       "</table>\n",
       "</div>"
      ],
      "text/plain": [
       "   Distancia  Hora_num  Dia  Tráfico\n",
       "3        9.0  0.288194    4        1"
      ]
     },
     "execution_count": 24,
     "metadata": {},
     "output_type": "execute_result"
    }
   ],
   "source": [
    "a = X_test.sample()\n",
    "a"
   ]
  },
  {
   "cell_type": "code",
   "execution_count": 25,
   "id": "1dd1d4cc",
   "metadata": {},
   "outputs": [
    {
     "data": {
      "text/plain": [
       "array([0], dtype=int64)"
      ]
     },
     "execution_count": 25,
     "metadata": {},
     "output_type": "execute_result"
    }
   ],
   "source": [
    "model.predict(a)"
   ]
  },
  {
   "cell_type": "markdown",
   "id": "bbde8d07",
   "metadata": {},
   "source": [
    "Calculamos la tasa de aciertos del modelo"
   ]
  },
  {
   "cell_type": "code",
   "execution_count": 26,
   "id": "ba34d792",
   "metadata": {},
   "outputs": [
    {
     "data": {
      "text/plain": [
       "0.2857142857142857"
      ]
     },
     "execution_count": 26,
     "metadata": {},
     "output_type": "execute_result"
    }
   ],
   "source": [
    "model.score(X_test,y_test)"
   ]
  },
  {
   "cell_type": "code",
   "execution_count": 27,
   "id": "e36930a2",
   "metadata": {},
   "outputs": [
    {
     "data": {
      "text/plain": [
       "0.2857142857142857"
      ]
     },
     "execution_count": 27,
     "metadata": {},
     "output_type": "execute_result"
    }
   ],
   "source": [
    "(prediccion==y_test).sum()/y_test.shape[0]"
   ]
  }
 ],
 "metadata": {
  "kernelspec": {
   "display_name": "Python 3 (ipykernel)",
   "language": "python",
   "name": "python3"
  },
  "language_info": {
   "codemirror_mode": {
    "name": "ipython",
    "version": 3
   },
   "file_extension": ".py",
   "mimetype": "text/x-python",
   "name": "python",
   "nbconvert_exporter": "python",
   "pygments_lexer": "ipython3",
   "version": "3.9.12"
  }
 },
 "nbformat": 4,
 "nbformat_minor": 5
}
